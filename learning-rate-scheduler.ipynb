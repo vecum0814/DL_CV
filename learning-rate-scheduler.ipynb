{
 "cells": [
  {
   "cell_type": "markdown",
   "id": "be32fe3f",
   "metadata": {
    "papermill": {
     "duration": 0.02536,
     "end_time": "2022-02-02T05:08:04.783311",
     "exception": false,
     "start_time": "2022-02-02T05:08:04.757951",
     "status": "completed"
    },
    "tags": []
   },
   "source": [
    "### LearningRateScheduler callback 객체에 입력될 scheduler 함수 선언. \n",
    "* epoch 증가 시 마다 LR이 exponentially decay 되도록 설정. "
   ]
  },
  {
   "cell_type": "code",
   "execution_count": 1,
   "id": "4cff81d8",
   "metadata": {
    "execution": {
     "iopub.execute_input": "2022-02-02T05:08:04.839813Z",
     "iopub.status.busy": "2022-02-02T05:08:04.838140Z",
     "iopub.status.idle": "2022-02-02T05:08:09.553787Z",
     "shell.execute_reply": "2022-02-02T05:08:09.552793Z"
    },
    "papermill": {
     "duration": 4.744287,
     "end_time": "2022-02-02T05:08:09.553959",
     "exception": false,
     "start_time": "2022-02-02T05:08:04.809672",
     "status": "completed"
    },
    "tags": []
   },
   "outputs": [],
   "source": [
    "import tensorflow as tf\n",
    "import numpy as np\n",
    "\n",
    "def scheduler_exp(epoch, lr):\n",
    "    if epoch < 1:\n",
    "        return lr\n",
    "    else:\n",
    "        return lr * np.exp(-1.0)"
   ]
  },
  {
   "cell_type": "code",
   "execution_count": 2,
   "id": "19fe497b",
   "metadata": {
    "execution": {
     "iopub.execute_input": "2022-02-02T05:08:09.613781Z",
     "iopub.status.busy": "2022-02-02T05:08:09.613049Z",
     "iopub.status.idle": "2022-02-02T05:08:09.616173Z",
     "shell.execute_reply": "2022-02-02T05:08:09.616675Z"
    },
    "papermill": {
     "duration": 0.037393,
     "end_time": "2022-02-02T05:08:09.616837",
     "exception": false,
     "start_time": "2022-02-02T05:08:09.579444",
     "status": "completed"
    },
    "tags": []
   },
   "outputs": [
    {
     "data": {
      "text/plain": [
       "0.1353352832366127"
      ]
     },
     "execution_count": 2,
     "metadata": {},
     "output_type": "execute_result"
    }
   ],
   "source": [
    "np.exp(-2.0)"
   ]
  },
  {
   "cell_type": "markdown",
   "id": "57326976",
   "metadata": {
    "papermill": {
     "duration": 0.024962,
     "end_time": "2022-02-02T05:08:09.667206",
     "exception": false,
     "start_time": "2022-02-02T05:08:09.642244",
     "status": "completed"
    },
    "tags": []
   },
   "source": [
    "### LearningRateScheduler 로 Learning Rate를 epochs 시마다 변경하기\n",
    "* LearningRateScheduler 객체 생성 시 인자로 scheduler 함수 입력하여 생성\n",
    "* model.fit() callbacks인자로 LearningRateScheduler 객체 입력"
   ]
  },
  {
   "cell_type": "code",
   "execution_count": 3,
   "id": "be0611a0",
   "metadata": {
    "execution": {
     "iopub.execute_input": "2022-02-02T05:08:09.721041Z",
     "iopub.status.busy": "2022-02-02T05:08:09.720349Z",
     "iopub.status.idle": "2022-02-02T05:08:11.791622Z",
     "shell.execute_reply": "2022-02-02T05:08:11.790869Z"
    },
    "papermill": {
     "duration": 2.099261,
     "end_time": "2022-02-02T05:08:11.791776",
     "exception": false,
     "start_time": "2022-02-02T05:08:09.692515",
     "status": "completed"
    },
    "tags": []
   },
   "outputs": [
    {
     "name": "stderr",
     "output_type": "stream",
     "text": [
      "\n",
      "User settings:\n",
      "\n",
      "   KMP_AFFINITY=granularity=fine,noverbose,compact,1,0\n",
      "   KMP_BLOCKTIME=0\n",
      "   KMP_SETTINGS=1\n",
      "   KMP_WARNINGS=0\n",
      "\n",
      "Effective settings:\n",
      "\n",
      "   KMP_ABORT_DELAY=0\n",
      "   KMP_ADAPTIVE_LOCK_PROPS='1,1024'\n",
      "   KMP_ALIGN_ALLOC=64\n",
      "   KMP_ALL_THREADPRIVATE=128\n",
      "   KMP_ATOMIC_MODE=2\n",
      "   KMP_BLOCKTIME=0\n",
      "   KMP_CPUINFO_FILE: value is not defined\n",
      "   KMP_DETERMINISTIC_REDUCTION=false\n",
      "   KMP_DEVICE_THREAD_LIMIT=2147483647\n",
      "   KMP_DISP_NUM_BUFFERS=7\n",
      "   KMP_DUPLICATE_LIB_OK=false\n",
      "   KMP_ENABLE_TASK_THROTTLING=true\n",
      "   KMP_FORCE_REDUCTION: value is not defined\n",
      "   KMP_FOREIGN_THREADS_THREADPRIVATE=true\n",
      "   KMP_FORKJOIN_BARRIER='2,2'\n",
      "   KMP_FORKJOIN_BARRIER_PATTERN='hyper,hyper'\n",
      "   KMP_GTID_MODE=3\n",
      "   KMP_HANDLE_SIGNALS=false\n",
      "   KMP_HOT_TEAMS_MAX_LEVEL=1\n",
      "   KMP_HOT_TEAMS_MODE=0\n",
      "   KMP_INIT_AT_FORK=true\n",
      "   KMP_LIBRARY=throughput\n",
      "   KMP_LOCK_KIND=queuing\n",
      "   KMP_MALLOC_POOL_INCR=1M\n",
      "   KMP_NUM_LOCKS_IN_BLOCK=1\n",
      "   KMP_PLAIN_BARRIER='2,2'\n",
      "   KMP_PLAIN_BARRIER_PATTERN='hyper,hyper'\n",
      "   KMP_REDUCTION_BARRIER='1,1'\n",
      "   KMP_REDUCTION_BARRIER_PATTERN='hyper,hyper'\n",
      "   KMP_SCHEDULE='static,balanced;guided,iterative'\n",
      "   KMP_SETTINGS=true\n",
      "   KMP_SPIN_BACKOFF_PARAMS='4096,100'\n",
      "   KMP_STACKOFFSET=64\n",
      "   KMP_STACKPAD=0\n",
      "   KMP_STACKSIZE=8M\n",
      "   KMP_STORAGE_MAP=false\n",
      "   KMP_TASKING=2\n",
      "   KMP_TASKLOOP_MIN_TASKS=0\n",
      "   KMP_TASK_STEALING_CONSTRAINT=1\n",
      "   KMP_TEAMS_THREAD_LIMIT=4\n",
      "   KMP_TOPOLOGY_METHOD=all\n",
      "   KMP_USE_YIELD=1\n",
      "   KMP_VERSION=false\n",
      "   KMP_WARNINGS=false\n",
      "   OMP_AFFINITY_FORMAT='OMP: pid %P tid %i thread %n bound to OS proc set {%A}'\n",
      "   OMP_ALLOCATOR=omp_default_mem_alloc\n",
      "   OMP_CANCELLATION=false\n",
      "   OMP_DEFAULT_DEVICE=0\n",
      "   OMP_DISPLAY_AFFINITY=false\n",
      "   OMP_DISPLAY_ENV=false\n",
      "   OMP_DYNAMIC=false\n",
      "   OMP_MAX_ACTIVE_LEVELS=1\n",
      "   OMP_MAX_TASK_PRIORITY=0\n",
      "   OMP_NESTED: deprecated; max-active-levels-var=1\n",
      "   OMP_NUM_THREADS: value is not defined\n",
      "   OMP_PLACES: value is not defined\n",
      "   OMP_PROC_BIND='intel'\n",
      "   OMP_SCHEDULE='static'\n",
      "   OMP_STACKSIZE=8M\n",
      "   OMP_TARGET_OFFLOAD=DEFAULT\n",
      "   OMP_THREAD_LIMIT=2147483647\n",
      "   OMP_WAIT_POLICY=PASSIVE\n",
      "   KMP_AFFINITY='noverbose,warnings,respect,granularity=fine,compact,1,0'\n",
      "\n",
      "2022-02-02 05:08:10.961195: I tensorflow/core/common_runtime/process_util.cc:146] Creating new thread pool with default inter op setting: 2. Tune using inter_op_parallelism_threads for best performance.\n",
      "2022-02-02 05:08:11.083427: I tensorflow/compiler/mlir/mlir_graph_optimization_pass.cc:185] None of the MLIR Optimization Passes are enabled (registered 2)\n"
     ]
    },
    {
     "name": "stdout",
     "output_type": "stream",
     "text": [
      "최초 learning rated: 0.01\n",
      "Epoch 1/15\n",
      "\n",
      "Epoch 00001: LearningRateScheduler setting learning rate to 0.009999999776482582.\n",
      "1/1 [==============================] - 0s 444ms/step - loss: 2426.9050\n",
      "Epoch 2/15\n",
      "\n",
      "Epoch 00002: LearningRateScheduler setting learning rate to 0.0036787943294869607.\n",
      "1/1 [==============================] - 0s 5ms/step - loss: 40864776.0000\n",
      "Epoch 3/15\n",
      "\n",
      "Epoch 00003: LearningRateScheduler setting learning rate to 0.0013533527735202996.\n",
      "1/1 [==============================] - 0s 3ms/step - loss: 91033747456.0000\n",
      "Epoch 4/15\n",
      "\n",
      "Epoch 00004: LearningRateScheduler setting learning rate to 0.0004978706704056293.\n",
      "1/1 [==============================] - 0s 3ms/step - loss: 25483286675456.0000\n",
      "Epoch 5/15\n",
      "\n",
      "Epoch 00005: LearningRateScheduler setting learning rate to 0.00018315638425888493.\n",
      "1/1 [==============================] - 0s 4ms/step - loss: 777311972491264.0000\n",
      "Epoch 6/15\n",
      "\n",
      "Epoch 00006: LearningRateScheduler setting learning rate to 6.73794688923822e-05.\n",
      "1/1 [==============================] - 0s 6ms/step - loss: 1522778238877696.0000\n",
      "Epoch 7/15\n",
      "\n",
      "Epoch 00007: LearningRateScheduler setting learning rate to 2.4787522192144945e-05.\n",
      "1/1 [==============================] - 0s 4ms/step - loss: 20922587152384.0000\n",
      "Epoch 8/15\n",
      "\n",
      "Epoch 00008: LearningRateScheduler setting learning rate to 9.118819519637878e-06.\n",
      "1/1 [==============================] - 0s 4ms/step - loss: 9539696984064.0000\n",
      "Epoch 9/15\n",
      "\n",
      "Epoch 00009: LearningRateScheduler setting learning rate to 3.35462619776653e-06.\n",
      "1/1 [==============================] - 0s 3ms/step - loss: 7396411834368.0000\n",
      "Epoch 10/15\n",
      "\n",
      "Epoch 00010: LearningRateScheduler setting learning rate to 1.2340980071972145e-06.\n",
      "1/1 [==============================] - 0s 4ms/step - loss: 6760538046464.0000\n",
      "Epoch 11/15\n",
      "\n",
      "Epoch 00011: LearningRateScheduler setting learning rate to 4.539992906826829e-07.\n",
      "1/1 [==============================] - 0s 3ms/step - loss: 6543686762496.0000\n",
      "Epoch 12/15\n",
      "\n",
      "Epoch 00012: LearningRateScheduler setting learning rate to 1.670170056471376e-07.\n",
      "1/1 [==============================] - 0s 10ms/step - loss: 6466072215552.0000\n",
      "Epoch 13/15\n",
      "\n",
      "Epoch 00013: LearningRateScheduler setting learning rate to 6.144212299791121e-08.\n",
      "1/1 [==============================] - 0s 3ms/step - loss: 6437806276608.0000\n",
      "Epoch 14/15\n",
      "\n",
      "Epoch 00014: LearningRateScheduler setting learning rate to 2.2603293690026104e-08.\n",
      "1/1 [==============================] - 0s 4ms/step - loss: 6427444772864.0000\n",
      "Epoch 15/15\n",
      "\n",
      "Epoch 00015: LearningRateScheduler setting learning rate to 8.31528696638835e-09.\n",
      "1/1 [==============================] - 0s 3ms/step - loss: 6423638966272.0000\n"
     ]
    }
   ],
   "source": [
    "from tensorflow.keras.models import Sequential\n",
    "from tensorflow.keras.layers import Dense\n",
    "from tensorflow.keras.optimizers import SGD\n",
    "\n",
    "from tensorflow.keras.callbacks import LearningRateScheduler\n",
    "\n",
    "\n",
    "def scheduler_exp(epoch, lr):\n",
    "    if epoch < 1:\n",
    "        return lr\n",
    "    else:\n",
    "        return lr * np.exp(-1.0)\n",
    "    \n",
    "# 테스트용 임시 모델을 생성. \n",
    "model = Sequential([Dense(10)])\n",
    "model.compile(optimizer = SGD(), loss = 'mse')\n",
    "print('최초 learning rated:', round(model.optimizer.lr.numpy(), 5))\n",
    "\n",
    "# LearningRateScheduler 객체에 인자로 scheduler_exp 함수 등록 \n",
    "lr_scheduler = LearningRateScheduler(scheduler_exp, verbose=1)\n",
    "\n",
    "history = model.fit(np.arange(100).reshape(5, 20), np.zeros(5),\n",
    "                    epochs = 15, callbacks = [lr_scheduler], verbose = 1)"
   ]
  },
  {
   "cell_type": "markdown",
   "id": "149d9876",
   "metadata": {
    "papermill": {
     "duration": 0.037682,
     "end_time": "2022-02-02T05:08:11.867828",
     "exception": false,
     "start_time": "2022-02-02T05:08:11.830146",
     "status": "completed"
    },
    "tags": []
   },
   "source": [
    "### scheduler_exp 함수 결과를 시각화"
   ]
  },
  {
   "cell_type": "code",
   "execution_count": 4,
   "id": "4334a307",
   "metadata": {
    "execution": {
     "iopub.execute_input": "2022-02-02T05:08:11.952779Z",
     "iopub.status.busy": "2022-02-02T05:08:11.950932Z",
     "iopub.status.idle": "2022-02-02T05:08:12.367589Z",
     "shell.execute_reply": "2022-02-02T05:08:12.368106Z"
    },
    "papermill": {
     "duration": 0.463148,
     "end_time": "2022-02-02T05:08:12.368328",
     "exception": false,
     "start_time": "2022-02-02T05:08:11.905180",
     "status": "completed"
    },
    "tags": []
   },
   "outputs": [
    {
     "name": "stdout",
     "output_type": "stream",
     "text": [
      "최초 learning rated: 0.01\n",
      "Epoch 1/15\n",
      "\n",
      "Epoch 00001: LearningRateScheduler setting learning rate to 0.01.\n",
      "1/1 [==============================] - 0s 260ms/step - loss: 3959.6277\n",
      "Epoch 2/15\n",
      "\n",
      "Epoch 00002: LearningRateScheduler setting learning rate to 0.0036787944117144234.\n",
      "1/1 [==============================] - 0s 4ms/step - loss: 66697960.0000\n",
      "Epoch 3/15\n",
      "\n",
      "Epoch 00003: LearningRateScheduler setting learning rate to 0.0013533528323661271.\n",
      "1/1 [==============================] - 0s 3ms/step - loss: 148581875712.0000\n",
      "Epoch 4/15\n",
      "\n",
      "Epoch 00004: LearningRateScheduler setting learning rate to 0.0004978706836786395.\n",
      "1/1 [==============================] - 0s 3ms/step - loss: 41592865947648.0000\n",
      "Epoch 5/15\n",
      "\n",
      "Epoch 00005: LearningRateScheduler setting learning rate to 0.00018315638888734184.\n",
      "1/1 [==============================] - 0s 3ms/step - loss: 1268699382153216.0000\n",
      "Epoch 6/15\n",
      "\n",
      "Epoch 00006: LearningRateScheduler setting learning rate to 6.737946999085469e-05.\n",
      "1/1 [==============================] - 0s 4ms/step - loss: 2485421338525696.0000\n",
      "Epoch 7/15\n",
      "\n",
      "Epoch 00007: LearningRateScheduler setting learning rate to 2.4787521766663588e-05.\n",
      "1/1 [==============================] - 0s 5ms/step - loss: 34149062672384.0000\n",
      "Epoch 8/15\n",
      "\n",
      "Epoch 00008: LearningRateScheduler setting learning rate to 9.118819655545164e-06.\n",
      "1/1 [==============================] - 0s 3ms/step - loss: 15570332286976.0000\n",
      "Epoch 9/15\n",
      "\n",
      "Epoch 00009: LearningRateScheduler setting learning rate to 3.354626279025119e-06.\n",
      "1/1 [==============================] - 0s 3ms/step - loss: 12072146436096.0000\n",
      "Epoch 10/15\n",
      "\n",
      "Epoch 00010: LearningRateScheduler setting learning rate to 1.234098040866796e-06.\n",
      "1/1 [==============================] - 0s 4ms/step - loss: 11034296320000.0000\n",
      "Epoch 11/15\n",
      "\n",
      "Epoch 00011: LearningRateScheduler setting learning rate to 4.539992976248487e-07.\n",
      "1/1 [==============================] - 0s 4ms/step - loss: 10680358928384.0000\n",
      "Epoch 12/15\n",
      "\n",
      "Epoch 00012: LearningRateScheduler setting learning rate to 1.6701700790245666e-07.\n",
      "1/1 [==============================] - 0s 3ms/step - loss: 10553680461824.0000\n",
      "Epoch 13/15\n",
      "\n",
      "Epoch 00013: LearningRateScheduler setting learning rate to 6.144212353328212e-08.\n",
      "1/1 [==============================] - 0s 3ms/step - loss: 10507544166400.0000\n",
      "Epoch 14/15\n",
      "\n",
      "Epoch 00014: LearningRateScheduler setting learning rate to 2.2603294069810555e-08.\n",
      "1/1 [==============================] - 0s 3ms/step - loss: 10490633781248.0000\n",
      "Epoch 15/15\n",
      "\n",
      "Epoch 00015: LearningRateScheduler setting learning rate to 8.315287191035682e-09.\n",
      "1/1 [==============================] - 0s 3ms/step - loss: 10484420968448.0000\n"
     ]
    }
   ],
   "source": [
    "def scheduler_exp(epoch):\n",
    "    initial_lr = 0.01\n",
    "    if epoch < 1:\n",
    "        return initial_lr\n",
    "    else:\n",
    "        return initial_lr * np.exp(-1.0) ** epoch\n",
    "\n",
    "    \n",
    "model = Sequential([Dense(10)])\n",
    "model.compile(optimizer = SGD(), loss = 'mse')\n",
    "print('최초 learning rated:', round(model.optimizer.lr.numpy(), 5))\n",
    "\n",
    "# LearningRateScheduler 객체에 인자로 scheduler_exp 함수 등록 \n",
    "lr_scheduler = LearningRateScheduler(scheduler_exp, verbose = 1)\n",
    "history = model.fit(np.arange(100).reshape(5, 20), np.zeros(5),\n",
    "                    epochs = 15, callbacks = [lr_scheduler], verbose = 1)"
   ]
  },
  {
   "cell_type": "code",
   "execution_count": 5,
   "id": "e96334a0",
   "metadata": {
    "execution": {
     "iopub.execute_input": "2022-02-02T05:08:12.471047Z",
     "iopub.status.busy": "2022-02-02T05:08:12.470108Z",
     "iopub.status.idle": "2022-02-02T05:08:12.472866Z",
     "shell.execute_reply": "2022-02-02T05:08:12.472373Z"
    },
    "papermill": {
     "duration": 0.05722,
     "end_time": "2022-02-02T05:08:12.473016",
     "exception": false,
     "start_time": "2022-02-02T05:08:12.415796",
     "status": "completed"
    },
    "tags": []
   },
   "outputs": [],
   "source": [
    "epochs_list = range(30)\n",
    "lr_list = [ scheduler_exp(epoch) for epoch in epochs_list]"
   ]
  },
  {
   "cell_type": "code",
   "execution_count": 6,
   "id": "3e1dbc9c",
   "metadata": {
    "execution": {
     "iopub.execute_input": "2022-02-02T05:08:12.576870Z",
     "iopub.status.busy": "2022-02-02T05:08:12.570532Z",
     "iopub.status.idle": "2022-02-02T05:08:12.581344Z",
     "shell.execute_reply": "2022-02-02T05:08:12.581859Z"
    },
    "papermill": {
     "duration": 0.059824,
     "end_time": "2022-02-02T05:08:12.582032",
     "exception": false,
     "start_time": "2022-02-02T05:08:12.522208",
     "status": "completed"
    },
    "tags": []
   },
   "outputs": [],
   "source": [
    "import matplotlib.pyplot as plt\n",
    "%matplotlib inline\n",
    "\n",
    "def plot_scheduler(epochs_list, lr_list, title = None):\n",
    "    plt.figure(figsize = (6,4))\n",
    "    plt.plot(epochs_list, lr_list)\n",
    "    plt.xlabel('epochs')\n",
    "    plt.ylabel('learning rate')\n",
    "    plt.title(title)"
   ]
  },
  {
   "cell_type": "code",
   "execution_count": 7,
   "id": "9862c88e",
   "metadata": {
    "execution": {
     "iopub.execute_input": "2022-02-02T05:08:12.678585Z",
     "iopub.status.busy": "2022-02-02T05:08:12.677862Z",
     "iopub.status.idle": "2022-02-02T05:08:12.882709Z",
     "shell.execute_reply": "2022-02-02T05:08:12.883254Z"
    },
    "papermill": {
     "duration": 0.255601,
     "end_time": "2022-02-02T05:08:12.883452",
     "exception": false,
     "start_time": "2022-02-02T05:08:12.627851",
     "status": "completed"
    },
    "tags": []
   },
   "outputs": [
    {
     "data": {
      "image/png": "[encoded data removed]",
      "text/plain": [
       "<Figure size 432x288 with 1 Axes>"
      ]
     },
     "metadata": {
      "needs_background": "light"
     },
     "output_type": "display_data"
    }
   ],
   "source": [
    "plot_scheduler(epochs_list, lr_list, 'exponentially decay')"
   ]
  },
  {
   "cell_type": "markdown",
   "id": "b55e6dac",
   "metadata": {
    "papermill": {
     "duration": 0.047256,
     "end_time": "2022-02-02T05:08:12.978642",
     "exception": false,
     "start_time": "2022-02-02T05:08:12.931386",
     "status": "completed"
    },
    "tags": []
   },
   "source": [
    "### 또 다른 함수(step_decay)로 LearningRateScheduler 객체 생성하여 LR 조절. "
   ]
  },
  {
   "cell_type": "code",
   "execution_count": 8,
   "id": "1f2c0cde",
   "metadata": {
    "execution": {
     "iopub.execute_input": "2022-02-02T05:08:13.082690Z",
     "iopub.status.busy": "2022-02-02T05:08:13.081876Z",
     "iopub.status.idle": "2022-02-02T05:08:13.257455Z",
     "shell.execute_reply": "2022-02-02T05:08:13.256905Z"
    },
    "papermill": {
     "duration": 0.228198,
     "end_time": "2022-02-02T05:08:13.257589",
     "exception": false,
     "start_time": "2022-02-02T05:08:13.029391",
     "status": "completed"
    },
    "tags": []
   },
   "outputs": [
    {
     "name": "stdout",
     "output_type": "stream",
     "text": [
      "epoch: 0 lr: 0.1\n",
      "epoch: 1 lr: 0.1\n",
      "epoch: 2 lr: 0.1\n",
      "epoch: 3 lr: 0.1\n",
      "epoch: 4 lr: 0.1\n",
      "epoch: 5 lr: 0.05\n",
      "epoch: 6 lr: 0.05\n",
      "epoch: 7 lr: 0.05\n",
      "epoch: 8 lr: 0.05\n",
      "epoch: 9 lr: 0.05\n",
      "epoch: 10 lr: 0.025\n",
      "epoch: 11 lr: 0.025\n",
      "epoch: 12 lr: 0.025\n",
      "epoch: 13 lr: 0.025\n",
      "epoch: 14 lr: 0.025\n",
      "epoch: 15 lr: 0.0125\n",
      "epoch: 16 lr: 0.0125\n",
      "epoch: 17 lr: 0.0125\n",
      "epoch: 18 lr: 0.0125\n",
      "epoch: 19 lr: 0.0125\n",
      "epoch: 20 lr: 0.00625\n",
      "epoch: 21 lr: 0.00625\n",
      "epoch: 22 lr: 0.00625\n",
      "epoch: 23 lr: 0.00625\n",
      "epoch: 24 lr: 0.00625\n",
      "epoch: 25 lr: 0.003125\n",
      "epoch: 26 lr: 0.003125\n",
      "epoch: 27 lr: 0.003125\n",
      "epoch: 28 lr: 0.003125\n",
      "epoch: 29 lr: 0.003125\n"
     ]
    },
    {
     "data": {
      "image/png": "[encoded data removed]",
      "text/plain": [
       "<Figure size 432x288 with 1 Axes>"
      ]
     },
     "metadata": {
      "needs_background": "light"
     },
     "output_type": "display_data"
    }
   ],
   "source": [
    "import tensorflow as tf\n",
    "\n",
    "def step_decay(epoch):\n",
    "    initial_lr = 0.1\n",
    "    drop = 0.5\n",
    "    epochs_drop = 5.0 # 5개의 epoch 동안에는 떨어뜨리지 않게 하기.\n",
    "    lr = initial_lr * (drop ** np.floor((epoch)/epochs_drop))\n",
    "    print('epoch:',epoch,'lr:', lr)\n",
    "    return lr\n",
    "\n",
    "lr_list = [step_decay(epoch) for epoch  in epochs_list]\n",
    "plot_scheduler(epochs_list, lr_list, title = 'Step Decay')"
   ]
  },
  {
   "cell_type": "code",
   "execution_count": 9,
   "id": "6cff61cf",
   "metadata": {
    "execution": {
     "iopub.execute_input": "2022-02-02T05:08:13.364762Z",
     "iopub.status.busy": "2022-02-02T05:08:13.364045Z",
     "iopub.status.idle": "2022-02-02T05:08:13.783698Z",
     "shell.execute_reply": "2022-02-02T05:08:13.783078Z"
    },
    "papermill": {
     "duration": 0.477981,
     "end_time": "2022-02-02T05:08:13.783848",
     "exception": false,
     "start_time": "2022-02-02T05:08:13.305867",
     "status": "completed"
    },
    "tags": []
   },
   "outputs": [
    {
     "name": "stdout",
     "output_type": "stream",
     "text": [
      "최초 learning rated: 0.01\n",
      "Epoch 1/15\n",
      "epoch: 0 lr: 0.1\n",
      "\n",
      "Epoch 00001: LearningRateScheduler setting learning rate to 0.1.\n",
      "1/1 [==============================] - 0s 258ms/step - loss: 3491.3062\n",
      "Epoch 2/15\n",
      "epoch: 1 lr: 0.1\n",
      "\n",
      "Epoch 00002: LearningRateScheduler setting learning rate to 0.1.\n",
      "1/1 [==============================] - 0s 5ms/step - loss: 5969002496.0000\n",
      "Epoch 3/15\n",
      "epoch: 2 lr: 0.1\n",
      "\n",
      "Epoch 00003: LearningRateScheduler setting learning rate to 0.1.\n",
      "1/1 [==============================] - 0s 4ms/step - loss: 10230374802128896.0000\n",
      "Epoch 4/15\n",
      "epoch: 3 lr: 0.1\n",
      "\n",
      "Epoch 00004: LearningRateScheduler setting learning rate to 0.1.\n",
      "1/1 [==============================] - 0s 4ms/step - loss: 17534020929328603201536.0000\n",
      "Epoch 5/15\n",
      "epoch: 4 lr: 0.1\n",
      "\n",
      "Epoch 00005: LearningRateScheduler setting learning rate to 0.1.\n",
      "1/1 [==============================] - 0s 4ms/step - loss: 30051860535665564466108432384.0000\n",
      "Epoch 6/15\n",
      "epoch: 5 lr: 0.05\n",
      "\n",
      "Epoch 00006: LearningRateScheduler setting learning rate to 0.05.\n",
      "1/1 [==============================] - 0s 3ms/step - loss: 51506411665649060105843607183818752.0000\n",
      "Epoch 7/15\n",
      "epoch: 6 lr: 0.05\n",
      "\n",
      "Epoch 00007: LearningRateScheduler setting learning rate to 0.05.\n",
      "1/1 [==============================] - 0s 5ms/step - loss: inf\n",
      "Epoch 8/15\n",
      "epoch: 7 lr: 0.05\n",
      "\n",
      "Epoch 00008: LearningRateScheduler setting learning rate to 0.05.\n",
      "1/1 [==============================] - 0s 5ms/step - loss: inf\n",
      "Epoch 9/15\n",
      "epoch: 8 lr: 0.05\n",
      "\n",
      "Epoch 00009: LearningRateScheduler setting learning rate to 0.05.\n",
      "1/1 [==============================] - 0s 4ms/step - loss: inf\n",
      "Epoch 10/15\n",
      "epoch: 9 lr: 0.05\n",
      "\n",
      "Epoch 00010: LearningRateScheduler setting learning rate to 0.05.\n",
      "1/1 [==============================] - 0s 4ms/step - loss: inf\n",
      "Epoch 11/15\n",
      "epoch: 10 lr: 0.025\n",
      "\n",
      "Epoch 00011: LearningRateScheduler setting learning rate to 0.025.\n",
      "1/1 [==============================] - 0s 5ms/step - loss: inf\n",
      "Epoch 12/15\n",
      "epoch: 11 lr: 0.025\n",
      "\n",
      "Epoch 00012: LearningRateScheduler setting learning rate to 0.025.\n",
      "1/1 [==============================] - 0s 4ms/step - loss: inf\n",
      "Epoch 13/15\n",
      "epoch: 12 lr: 0.025\n",
      "\n",
      "Epoch 00013: LearningRateScheduler setting learning rate to 0.025.\n",
      "1/1 [==============================] - 0s 3ms/step - loss: inf\n",
      "Epoch 14/15\n",
      "epoch: 13 lr: 0.025\n",
      "\n",
      "Epoch 00014: LearningRateScheduler setting learning rate to 0.025.\n",
      "1/1 [==============================] - 0s 4ms/step - loss: inf\n",
      "Epoch 15/15\n",
      "epoch: 14 lr: 0.025\n",
      "\n",
      "Epoch 00015: LearningRateScheduler setting learning rate to 0.025.\n",
      "1/1 [==============================] - 0s 3ms/step - loss: nan\n"
     ]
    }
   ],
   "source": [
    "model = Sequential([Dense(10)])\n",
    "model.compile(optimizer=SGD(), loss='mse')\n",
    "print('최초 learning rated:', round(model.optimizer.lr.numpy(), 5))\n",
    "\n",
    "lr_scheduler = LearningRateScheduler(step_decay, verbose=1)\n",
    "history = model.fit(np.arange(100).reshape(5, 20), np.zeros(5),\n",
    "                    epochs = 15, callbacks = [lr_scheduler], verbose = 1)"
   ]
  },
  {
   "cell_type": "code",
   "execution_count": null,
   "id": "621080ff",
   "metadata": {
    "papermill": {
     "duration": 0.060688,
     "end_time": "2022-02-02T05:08:13.910170",
     "exception": false,
     "start_time": "2022-02-02T05:08:13.849482",
     "status": "completed"
    },
    "tags": []
   },
   "outputs": [],
   "source": []
  },
  {
   "cell_type": "markdown",
   "id": "fa78ebce",
   "metadata": {
    "papermill": {
     "duration": 0.062728,
     "end_time": "2022-02-02T05:08:14.035987",
     "exception": false,
     "start_time": "2022-02-02T05:08:13.973259",
     "status": "completed"
    },
    "tags": []
   },
   "source": [
    "### Cosine Decay 적용하기\n",
    "* Tensorflow 2.x은 Cosine Decay를 tf.keras.experimental.CosineDecay로 제공\n",
    "* tf.keras.experimental.CosineDecay는 callback이 아니라 optimizer의 LearningRateSchedule 이며, model.compile()의 optimizer 인자의 learning_rate로 값 입력 부여\n",
    "* initial_learning_rate는 최초 LR\n",
    "* decay_steps는 감소 적용할 steps \n",
    "* alpha는 최소 LR\n"
   ]
  },
  {
   "cell_type": "code",
   "execution_count": 10,
   "id": "b9358dc2",
   "metadata": {
    "execution": {
     "iopub.execute_input": "2022-02-02T05:08:14.167398Z",
     "iopub.status.busy": "2022-02-02T05:08:14.166609Z",
     "iopub.status.idle": "2022-02-02T05:08:14.169644Z",
     "shell.execute_reply": "2022-02-02T05:08:14.168944Z"
    },
    "papermill": {
     "duration": 0.070736,
     "end_time": "2022-02-02T05:08:14.169799",
     "exception": false,
     "start_time": "2022-02-02T05:08:14.099063",
     "status": "completed"
    },
    "tags": []
   },
   "outputs": [],
   "source": [
    "cos_decay = tf.keras.experimental.CosineDecay(initial_learning_rate = 1e-2, decay_steps = 30, alpha = 1e-2)"
   ]
  },
  {
   "cell_type": "code",
   "execution_count": 11,
   "id": "98f94014",
   "metadata": {
    "execution": {
     "iopub.execute_input": "2022-02-02T05:08:14.295388Z",
     "iopub.status.busy": "2022-02-02T05:08:14.294242Z",
     "iopub.status.idle": "2022-02-02T05:08:14.298717Z",
     "shell.execute_reply": "2022-02-02T05:08:14.298082Z"
    },
    "papermill": {
     "duration": 0.071458,
     "end_time": "2022-02-02T05:08:14.298851",
     "exception": false,
     "start_time": "2022-02-02T05:08:14.227393",
     "status": "completed"
    },
    "tags": []
   },
   "outputs": [
    {
     "data": {
      "text/plain": [
       "keras.optimizer_v2.learning_rate_schedule.CosineDecay"
      ]
     },
     "execution_count": 11,
     "metadata": {},
     "output_type": "execute_result"
    }
   ],
   "source": [
    "type(cos_decay)"
   ]
  },
  {
   "cell_type": "code",
   "execution_count": 12,
   "id": "9f635084",
   "metadata": {
    "execution": {
     "iopub.execute_input": "2022-02-02T05:08:14.432832Z",
     "iopub.status.busy": "2022-02-02T05:08:14.431832Z",
     "iopub.status.idle": "2022-02-02T05:08:14.612570Z",
     "shell.execute_reply": "2022-02-02T05:08:14.611833Z"
    },
    "papermill": {
     "duration": 0.252162,
     "end_time": "2022-02-02T05:08:14.612744",
     "exception": false,
     "start_time": "2022-02-02T05:08:14.360582",
     "status": "completed"
    },
    "tags": []
   },
   "outputs": [
    {
     "data": {
      "image/png": "[encoded data removed]",
      "text/plain": [
       "<Figure size 432x288 with 1 Axes>"
      ]
     },
     "metadata": {
      "needs_background": "light"
     },
     "output_type": "display_data"
    }
   ],
   "source": [
    "import matplotlib.pyplot as plt\n",
    "%matplotlib inline\n",
    "\n",
    "def plot_scheduler(epochs_list, lr_list, title = None):\n",
    "    plt.figure(figsize = (6,4))\n",
    "    plt.plot(epochs_list, lr_list)\n",
    "    plt.xlabel('steps')\n",
    "    plt.ylabel('learning rate')\n",
    "    plt.title(title)\n",
    "\n",
    "cos_decay = tf.keras.experimental.CosineDecay(initial_learning_rate = 1e-2, decay_steps = 30, alpha = 1e-2)\n",
    "\n",
    "steps_list = range(0, 30)\n",
    "lr_list = cos_decay(steps_list)\n",
    "\n",
    "plot_scheduler(steps_list, lr_list, 'Cosine Decay')"
   ]
  },
  {
   "cell_type": "markdown",
   "id": "7dce743a",
   "metadata": {
    "papermill": {
     "duration": 0.061307,
     "end_time": "2022-02-02T05:08:14.739574",
     "exception": false,
     "start_time": "2022-02-02T05:08:14.678267",
     "status": "completed"
    },
    "tags": []
   },
   "source": [
    "### tf.keras.experimental.CosineDecay는 optimizer의 learning_rate 인자로 입력 되어야 함\n",
    "* Callback이 아니므로 epochs시마다 변경되는 learning rate값을 알 수가 없음"
   ]
  },
  {
   "cell_type": "code",
   "execution_count": 13,
   "id": "31284b16",
   "metadata": {
    "execution": {
     "iopub.execute_input": "2022-02-02T05:08:14.880624Z",
     "iopub.status.busy": "2022-02-02T05:08:14.879533Z",
     "iopub.status.idle": "2022-02-02T05:08:15.365249Z",
     "shell.execute_reply": "2022-02-02T05:08:15.364688Z"
    },
    "papermill": {
     "duration": 0.565225,
     "end_time": "2022-02-02T05:08:15.365393",
     "exception": false,
     "start_time": "2022-02-02T05:08:14.800168",
     "status": "completed"
    },
    "tags": []
   },
   "outputs": [
    {
     "name": "stdout",
     "output_type": "stream",
     "text": [
      "Epoch 1/15\n",
      "1/1 [==============================] - 0s 332ms/step - loss: 3236.2400\n",
      "Epoch 2/15\n",
      "1/1 [==============================] - 0s 5ms/step - loss: 2263.9446\n",
      "Epoch 3/15\n",
      "1/1 [==============================] - 0s 3ms/step - loss: 1541.5100\n",
      "Epoch 4/15\n",
      "1/1 [==============================] - 0s 3ms/step - loss: 1028.6979\n",
      "Epoch 5/15\n",
      "1/1 [==============================] - 0s 7ms/step - loss: 688.1517\n",
      "Epoch 6/15\n",
      "1/1 [==============================] - 0s 4ms/step - loss: 477.0878\n",
      "Epoch 7/15\n",
      "1/1 [==============================] - 0s 6ms/step - loss: 352.5331\n",
      "Epoch 8/15\n",
      "1/1 [==============================] - 0s 5ms/step - loss: 282.3434\n",
      "Epoch 9/15\n",
      "1/1 [==============================] - 0s 4ms/step - loss: 245.2934\n",
      "Epoch 10/15\n",
      "1/1 [==============================] - 0s 5ms/step - loss: 226.1994\n",
      "Epoch 11/15\n",
      "1/1 [==============================] - 0s 3ms/step - loss: 214.4134\n",
      "Epoch 12/15\n",
      "1/1 [==============================] - 0s 3ms/step - loss: 203.7776\n",
      "Epoch 13/15\n",
      "1/1 [==============================] - 0s 5ms/step - loss: 191.9691\n",
      "Epoch 14/15\n",
      "1/1 [==============================] - 0s 5ms/step - loss: 178.9806\n",
      "Epoch 15/15\n",
      "1/1 [==============================] - 0s 3ms/step - loss: 165.5221\n"
     ]
    }
   ],
   "source": [
    "model = tf.keras.models.Sequential([tf.keras.layers.Dense(10)])\n",
    "# CosineDecay 객체는 optimizer의 learning_rate 인자로 입력되어야 함. \n",
    "model.compile(tf.keras.optimizers.Adam(learning_rate = cos_decay), loss = 'mse')\n",
    "\n",
    "history = model.fit(np.arange(100).reshape(5, 20), np.zeros(5),\n",
    "                    epochs = 15, verbose = 1)"
   ]
  },
  {
   "cell_type": "code",
   "execution_count": 14,
   "id": "7e8770e0",
   "metadata": {
    "execution": {
     "iopub.execute_input": "2022-02-02T05:08:15.528739Z",
     "iopub.status.busy": "2022-02-02T05:08:15.528011Z",
     "iopub.status.idle": "2022-02-02T05:08:15.676929Z",
     "shell.execute_reply": "2022-02-02T05:08:15.676419Z"
    },
    "papermill": {
     "duration": 0.242582,
     "end_time": "2022-02-02T05:08:15.677062",
     "exception": false,
     "start_time": "2022-02-02T05:08:15.434480",
     "status": "completed"
    },
    "tags": []
   },
   "outputs": [
    {
     "data": {
      "image/png": "[encoded data removed]",
      "text/plain": [
       "<Figure size 432x288 with 1 Axes>"
      ]
     },
     "metadata": {
      "needs_background": "light"
     },
     "output_type": "display_data"
    }
   ],
   "source": [
    "decay_steps = 30\n",
    "alpha = 0.0\n",
    "initial_learning_rate = 0.01\n",
    "\n",
    "def decayed_learning_rate(step):\n",
    "    step = min(step, decay_steps)\n",
    "    cosine_decay = 0.5 * (1 + np.cos(np.pi * step / decay_steps))\n",
    "    decayed = (1 - alpha) * cosine_decay + alpha\n",
    "    return initial_learning_rate * decayed\n",
    "\n",
    "steps_list = range(0, 30)\n",
    "lr_list = [decayed_learning_rate(step) for step in steps_list]\n",
    "\n",
    "plot_scheduler(steps_list, lr_list, 'Cosine Decay')"
   ]
  },
  {
   "cell_type": "markdown",
   "id": "72589ae9",
   "metadata": {
    "papermill": {
     "duration": 0.06915,
     "end_time": "2022-02-02T05:08:15.815156",
     "exception": false,
     "start_time": "2022-02-02T05:08:15.746006",
     "status": "completed"
    },
    "tags": []
   },
   "source": [
    "### Cosine Decay Restart(Cosine Annealing) 적용하기\n",
    "* tf.keras.experimental.CosineDecayRestarts 객체를 이용하여 적용\n",
    "* CosineDecay 객체와 마찬가지로 Callback이 아니므로 optimizer의 learning_rate인자로 입력 되어야 함. \n",
    "* initial_learning_rate는 최초 LR, first_decay_steps는 최초 decay step 수\n",
    "* t_mul는 전체 steps수를 감안해서 얼마나 cosine annealing을 반복할 지 결정하는 계수. 1이면 전체 steps/first_decay_steps, 2이면 분모를 이전 값 대비 2배로 증가 시킴\n",
    "* m_mul은 warm restart시 수행시마다 적용될 초기 learning rate\n",
    "* alpha는 최소 learning rate로 설정 계수로 최소 lr은 initial learning rate * alpha로 설정됨. "
   ]
  },
  {
   "cell_type": "code",
   "execution_count": 15,
   "id": "8612051d",
   "metadata": {
    "execution": {
     "iopub.execute_input": "2022-02-02T05:08:15.961702Z",
     "iopub.status.busy": "2022-02-02T05:08:15.960951Z",
     "iopub.status.idle": "2022-02-02T05:08:16.178355Z",
     "shell.execute_reply": "2022-02-02T05:08:16.178868Z"
    },
    "papermill": {
     "duration": 0.295064,
     "end_time": "2022-02-02T05:08:16.179045",
     "exception": false,
     "start_time": "2022-02-02T05:08:15.883981",
     "status": "completed"
    },
    "tags": []
   },
   "outputs": [
    {
     "data": {
      "image/png": "[encoded data removed]",
      "text/plain": [
       "<Figure size 432x288 with 1 Axes>"
      ]
     },
     "metadata": {
      "needs_background": "light"
     },
     "output_type": "display_data"
    }
   ],
   "source": [
    "from tensorflow.keras.experimental import CosineDecayRestarts\n",
    "\n",
    "cos_decay_restarts = CosineDecayRestarts(initial_learning_rate=0.01, first_decay_steps = 10, t_mul = 1, m_mul = 0.9, alpha = 0)\n",
    "steps_list = range(0, 120)\n",
    "lr_list = cos_decay_restarts(steps_list)\n",
    "\n",
    "plot_scheduler(steps_list, lr_list, 'Cosine Decay Restarts')"
   ]
  },
  {
   "cell_type": "code",
   "execution_count": 16,
   "id": "60c72514",
   "metadata": {
    "execution": {
     "iopub.execute_input": "2022-02-02T05:08:16.328616Z",
     "iopub.status.busy": "2022-02-02T05:08:16.327893Z",
     "iopub.status.idle": "2022-02-02T05:08:16.841149Z",
     "shell.execute_reply": "2022-02-02T05:08:16.840627Z"
    },
    "papermill": {
     "duration": 0.59173,
     "end_time": "2022-02-02T05:08:16.841416",
     "exception": false,
     "start_time": "2022-02-02T05:08:16.249686",
     "status": "completed"
    },
    "tags": []
   },
   "outputs": [
    {
     "name": "stdout",
     "output_type": "stream",
     "text": [
      "Epoch 1/15\n",
      "1/1 [==============================] - 0s 378ms/step - loss: 6979.2803\n",
      "Epoch 2/15\n",
      "1/1 [==============================] - 0s 4ms/step - loss: 5698.8291\n",
      "Epoch 3/15\n",
      "1/1 [==============================] - 0s 4ms/step - loss: 4659.1045\n",
      "Epoch 4/15\n",
      "1/1 [==============================] - 0s 3ms/step - loss: 3854.0688\n",
      "Epoch 5/15\n",
      "1/1 [==============================] - 0s 3ms/step - loss: 3261.2808\n",
      "Epoch 6/15\n",
      "1/1 [==============================] - 0s 3ms/step - loss: 2838.4172\n",
      "Epoch 7/15\n",
      "1/1 [==============================] - 0s 3ms/step - loss: 2545.4651\n",
      "Epoch 8/15\n",
      "1/1 [==============================] - 0s 3ms/step - loss: 2354.1641\n",
      "Epoch 9/15\n",
      "1/1 [==============================] - 0s 3ms/step - loss: 2243.1982\n",
      "Epoch 10/15\n",
      "1/1 [==============================] - 0s 3ms/step - loss: 2192.2544\n",
      "Epoch 11/15\n",
      "1/1 [==============================] - 0s 3ms/step - loss: 2179.1589\n",
      "Epoch 12/15\n",
      "1/1 [==============================] - 0s 3ms/step - loss: 1727.3777\n",
      "Epoch 13/15\n",
      "1/1 [==============================] - 0s 3ms/step - loss: 1349.1045\n",
      "Epoch 14/15\n",
      "1/1 [==============================] - 0s 3ms/step - loss: 1047.9358\n",
      "Epoch 15/15\n",
      "1/1 [==============================] - 0s 2ms/step - loss: 819.9354\n"
     ]
    }
   ],
   "source": [
    "model = tf.keras.models.Sequential([tf.keras.layers.Dense(10)])\n",
    "# CosineDecay 객체는 optimizer의 learning_rate 인자로 입력되어야 함. \n",
    "model.compile(tf.keras.optimizers.Adam(learning_rate=cos_decay_restarts), loss = 'mse')\n",
    "\n",
    "history = model.fit(np.arange(100).reshape(5, 20), np.zeros(5),\n",
    "                    epochs = 15, verbose = 1)"
   ]
  },
  {
   "cell_type": "markdown",
   "id": "a30da268",
   "metadata": {
    "papermill": {
     "duration": 0.079829,
     "end_time": "2022-02-02T05:08:17.001494",
     "exception": false,
     "start_time": "2022-02-02T05:08:16.921665",
     "status": "completed"
    },
    "tags": []
   },
   "source": []
  },
  {
   "cell_type": "markdown",
   "id": "03655c9f",
   "metadata": {
    "papermill": {
     "duration": 0.080557,
     "end_time": "2022-02-02T05:08:17.161304",
     "exception": false,
     "start_time": "2022-02-02T05:08:17.080747",
     "status": "completed"
    },
    "tags": []
   },
   "source": [
    "### Ramp Up and Step Down Decay\n",
    "* Ramp up으로 warm up 수행 후 Step 형식으로 Decay 하는 방식. \n",
    "* Kaggle의 Chris Deotte 가 제안하여 사용됨. "
   ]
  },
  {
   "cell_type": "code",
   "execution_count": 17,
   "id": "7e3ac84b",
   "metadata": {
    "execution": {
     "iopub.execute_input": "2022-02-02T05:08:17.373518Z",
     "iopub.status.busy": "2022-02-02T05:08:17.368373Z",
     "iopub.status.idle": "2022-02-02T05:08:17.539660Z",
     "shell.execute_reply": "2022-02-02T05:08:17.538963Z"
    },
    "papermill": {
     "duration": 0.298627,
     "end_time": "2022-02-02T05:08:17.539799",
     "exception": false,
     "start_time": "2022-02-02T05:08:17.241172",
     "status": "completed"
    },
    "tags": []
   },
   "outputs": [
    {
     "data": {
      "image/png": "[encoded data removed]",
      "text/plain": [
       "<Figure size 432x288 with 1 Axes>"
      ]
     },
     "metadata": {
      "needs_background": "light"
     },
     "output_type": "display_data"
    }
   ],
   "source": [
    "LR_START = 1e-5\n",
    "LR_MAX = 1e-2\n",
    "LR_RAMPUP_EPOCHS = 5\n",
    "LR_SUSTAIN_EPOCHS = 10\n",
    "LR_STEP_DECAY = 0.75\n",
    "\n",
    "def lrfn(epoch):\n",
    "    if epoch < LR_RAMPUP_EPOCHS:\n",
    "        lr = ((LR_MAX - LR_START) / LR_RAMPUP_EPOCHS) * epoch + LR_START\n",
    "    elif epoch < LR_RAMPUP_EPOCHS + LR_SUSTAIN_EPOCHS:\n",
    "        lr = LR_MAX\n",
    "    else:\n",
    "        lr = LR_MAX * LR_STEP_DECAY ** ((epoch - LR_RAMPUP_EPOCHS - LR_SUSTAIN_EPOCHS) // 2)\n",
    "    #print('epoch:', epoch, 'lr:', lr)\n",
    "    return lr\n",
    "\n",
    "lr_list = [lrfn(epoch) for epoch  in epochs_list]\n",
    "\n",
    "plot_scheduler(epochs_list, lr_list, title = 'WarmUp')"
   ]
  },
  {
   "cell_type": "markdown",
   "id": "141e4ad2",
   "metadata": {
    "papermill": {
     "duration": 0.080458,
     "end_time": "2022-02-02T05:08:17.701393",
     "exception": false,
     "start_time": "2022-02-02T05:08:17.620935",
     "status": "completed"
    },
    "tags": []
   },
   "source": [
    "### 아래와 같이 내포 함수로 생성하는 것을 권장. "
   ]
  },
  {
   "cell_type": "code",
   "execution_count": 18,
   "id": "48df10b6",
   "metadata": {
    "execution": {
     "iopub.execute_input": "2022-02-02T05:08:17.872329Z",
     "iopub.status.busy": "2022-02-02T05:08:17.871587Z",
     "iopub.status.idle": "2022-02-02T05:08:17.874161Z",
     "shell.execute_reply": "2022-02-02T05:08:17.873498Z"
    },
    "papermill": {
     "duration": 0.09176,
     "end_time": "2022-02-02T05:08:17.874323",
     "exception": false,
     "start_time": "2022-02-02T05:08:17.782563",
     "status": "completed"
    },
    "tags": []
   },
   "outputs": [],
   "source": [
    "def lrfn(epoch):\n",
    "    LR_START = 1e-5\n",
    "    LR_MAX = 1e-2\n",
    "    LR_RAMPUP_EPOCHS = 3\n",
    "    LR_SUSTAIN_EPOCHS = 3\n",
    "    LR_STEP_DECAY = 0.75\n",
    "    \n",
    "    def calc_fn(epoch):\n",
    "        if epoch < LR_RAMPUP_EPOCHS:\n",
    "            lr = ((LR_MAX - LR_START) / LR_RAMPUP_EPOCHS) * epoch + LR_START\n",
    "        elif epoch < LR_RAMPUP_EPOCHS + LR_SUSTAIN_EPOCHS:\n",
    "            lr = LR_MAX\n",
    "        else:\n",
    "            lr = LR_MAX * LR_STEP_DECAY ** ((epoch - LR_RAMPUP_EPOCHS - LR_SUSTAIN_EPOCHS) // 2)\n",
    "        \n",
    "        print('epoch:', epoch, 'lr:', lr)\n",
    "        \n",
    "        return lr\n",
    "    \n",
    "    # 반드시 내포 함수인 calc_fn(epoch)를 호출해야함. \n",
    "    return calc_fn(epoch)"
   ]
  },
  {
   "cell_type": "code",
   "execution_count": 19,
   "id": "f2d675e7",
   "metadata": {
    "execution": {
     "iopub.execute_input": "2022-02-02T05:08:18.048614Z",
     "iopub.status.busy": "2022-02-02T05:08:18.047570Z",
     "iopub.status.idle": "2022-02-02T05:08:18.556085Z",
     "shell.execute_reply": "2022-02-02T05:08:18.556590Z"
    },
    "papermill": {
     "duration": 0.601072,
     "end_time": "2022-02-02T05:08:18.556768",
     "exception": false,
     "start_time": "2022-02-02T05:08:17.955696",
     "status": "completed"
    },
    "tags": []
   },
   "outputs": [
    {
     "name": "stdout",
     "output_type": "stream",
     "text": [
      "Epoch 1/30\n",
      "epoch: 0 lr: 1e-05\n",
      "1/1 [==============================] - 0s 248ms/step - loss: 4749.8066\n",
      "Epoch 2/30\n",
      "epoch: 1 lr: 0.00334\n",
      "1/1 [==============================] - 0s 6ms/step - loss: 3588.2168\n",
      "Epoch 3/30\n",
      "epoch: 2 lr: 0.00667\n",
      "1/1 [==============================] - 0s 4ms/step - loss: 6549510.5000\n",
      "Epoch 4/30\n",
      "epoch: 3 lr: 0.01\n",
      "1/1 [==============================] - 0s 4ms/step - loss: 48878350336.0000\n",
      "Epoch 5/30\n",
      "epoch: 4 lr: 0.01\n",
      "1/1 [==============================] - 0s 5ms/step - loss: 826255809183744.0000\n",
      "Epoch 6/30\n",
      "epoch: 5 lr: 0.01\n",
      "1/1 [==============================] - 0s 4ms/step - loss: 13967302915824549888.0000\n",
      "Epoch 7/30\n",
      "epoch: 6 lr: 0.01\n",
      "1/1 [==============================] - 0s 4ms/step - loss: 236107929835542289580032.0000\n",
      "Epoch 8/30\n",
      "epoch: 7 lr: 0.01\n",
      "1/1 [==============================] - 0s 3ms/step - loss: 3991246752512714948183326720.0000\n",
      "Epoch 9/30\n",
      "epoch: 8 lr: 0.0075\n",
      "1/1 [==============================] - 0s 4ms/step - loss: 67469356937354787043613075308544.0000\n",
      "Epoch 10/30\n",
      "epoch: 9 lr: 0.0075\n",
      "1/1 [==============================] - 0s 4ms/step - loss: 638259739984119332855631054360281088.0000\n",
      "Epoch 11/30\n",
      "epoch: 10 lr: 0.005625\n",
      "1/1 [==============================] - 0s 3ms/step - loss: inf\n",
      "Epoch 12/30\n",
      "epoch: 11 lr: 0.005625\n",
      "1/1 [==============================] - 0s 4ms/step - loss: inf\n",
      "Epoch 13/30\n",
      "epoch: 12 lr: 0.00421875\n",
      "1/1 [==============================] - 0s 4ms/step - loss: inf\n",
      "Epoch 14/30\n",
      "epoch: 13 lr: 0.00421875\n",
      "1/1 [==============================] - 0s 4ms/step - loss: inf\n",
      "Epoch 15/30\n",
      "epoch: 14 lr: 0.0031640625\n",
      "1/1 [==============================] - 0s 5ms/step - loss: inf\n",
      "Epoch 16/30\n",
      "epoch: 15 lr: 0.0031640625\n",
      "1/1 [==============================] - 0s 4ms/step - loss: inf\n",
      "Epoch 17/30\n",
      "epoch: 16 lr: 0.002373046875\n",
      "1/1 [==============================] - 0s 4ms/step - loss: inf\n",
      "Epoch 18/30\n",
      "epoch: 17 lr: 0.002373046875\n",
      "1/1 [==============================] - 0s 4ms/step - loss: inf\n",
      "Epoch 19/30\n",
      "epoch: 18 lr: 0.00177978515625\n",
      "1/1 [==============================] - 0s 4ms/step - loss: inf\n",
      "Epoch 20/30\n",
      "epoch: 19 lr: 0.00177978515625\n",
      "1/1 [==============================] - 0s 4ms/step - loss: inf\n",
      "Epoch 21/30\n",
      "epoch: 20 lr: 0.0013348388671875\n",
      "1/1 [==============================] - 0s 3ms/step - loss: inf\n",
      "Epoch 22/30\n",
      "epoch: 21 lr: 0.0013348388671875\n",
      "1/1 [==============================] - 0s 4ms/step - loss: inf\n",
      "Epoch 23/30\n",
      "epoch: 22 lr: 0.001001129150390625\n",
      "1/1 [==============================] - 0s 4ms/step - loss: inf\n",
      "Epoch 24/30\n",
      "epoch: 23 lr: 0.001001129150390625\n",
      "1/1 [==============================] - 0s 5ms/step - loss: nan\n",
      "Epoch 25/30\n",
      "epoch: 24 lr: 0.0007508468627929688\n",
      "1/1 [==============================] - 0s 4ms/step - loss: nan\n",
      "Epoch 26/30\n",
      "epoch: 25 lr: 0.0007508468627929688\n",
      "1/1 [==============================] - 0s 4ms/step - loss: nan\n",
      "Epoch 27/30\n",
      "epoch: 26 lr: 0.0005631351470947266\n",
      "1/1 [==============================] - 0s 4ms/step - loss: nan\n",
      "Epoch 28/30\n",
      "epoch: 27 lr: 0.0005631351470947266\n",
      "1/1 [==============================] - 0s 5ms/step - loss: nan\n",
      "Epoch 29/30\n",
      "epoch: 28 lr: 0.00042235136032104493\n",
      "1/1 [==============================] - 0s 4ms/step - loss: nan\n",
      "Epoch 30/30\n",
      "epoch: 29 lr: 0.00042235136032104493\n",
      "1/1 [==============================] - 0s 4ms/step - loss: nan\n"
     ]
    }
   ],
   "source": [
    "import tensorflow as tf\n",
    "import numpy as np\n",
    "\n",
    "\n",
    "model = tf.keras.models.Sequential([tf.keras.layers.Dense(10)])\n",
    "model.compile(tf.keras.optimizers.SGD(), loss = 'mse')\n",
    "\n",
    "lr_scheduler = tf.keras.callbacks.LearningRateScheduler(lrfn)\n",
    "history = model.fit(np.arange(100).reshape(5, 20), np.zeros(5),\n",
    "                    epochs = 30, callbacks = [lr_scheduler], verbose = 1)\n"
   ]
  },
  {
   "cell_type": "code",
   "execution_count": null,
   "id": "fcaf317e",
   "metadata": {
    "papermill": {
     "duration": 0.099731,
     "end_time": "2022-02-02T05:08:18.758613",
     "exception": false,
     "start_time": "2022-02-02T05:08:18.658882",
     "status": "completed"
    },
    "tags": []
   },
   "outputs": [],
   "source": []
  },
  {
   "cell_type": "markdown",
   "id": "b6ff69c0",
   "metadata": {
    "papermill": {
     "duration": 0.099168,
     "end_time": "2022-02-02T05:08:18.958071",
     "exception": false,
     "start_time": "2022-02-02T05:08:18.858903",
     "status": "completed"
    },
    "tags": []
   },
   "source": [
    "### Cosine Decay를 Callback 으로 구현. "
   ]
  },
  {
   "cell_type": "code",
   "execution_count": 20,
   "id": "dd161e62",
   "metadata": {
    "execution": {
     "iopub.execute_input": "2022-02-02T05:08:19.171613Z",
     "iopub.status.busy": "2022-02-02T05:08:19.166327Z",
     "iopub.status.idle": "2022-02-02T05:08:19.174581Z",
     "shell.execute_reply": "2022-02-02T05:08:19.173892Z"
    },
    "papermill": {
     "duration": 0.116743,
     "end_time": "2022-02-02T05:08:19.174726",
     "exception": false,
     "start_time": "2022-02-02T05:08:19.057983",
     "status": "completed"
    },
    "tags": []
   },
   "outputs": [],
   "source": [
    "from collections.abc import Iterable\n",
    "from tensorflow.keras.callbacks import *\n",
    "from tensorflow.keras import backend as K\n",
    "import tensorflow as tf\n",
    "from tensorflow.python.ops import math_ops\n",
    "from tensorflow.python.ops import control_flow_ops\n",
    "from tensorflow.python.framework import constant_op\n",
    "import math\n",
    "\n",
    "\n",
    "class CosineDecayCB(tf.keras.callbacks.Callback):\n",
    "    def __init__(self, initial_learning_rate, decay_steps):\n",
    "        super(CosineDecayCB, self).__init__()\n",
    "        self.initial_learning_rate = initial_learning_rate\n",
    "        self.decay_steps = decay_steps\n",
    "        self.batch_step = 0\n",
    "        self.calc_lr = 0.0\n",
    "\n",
    "    def on_train_batch_begin(self, step, logs=None):\n",
    "        if not hasattr(self.model.optimizer, \"lr\"):\n",
    "            raise ValueError('Optimizer must have a \"lr\" attribute.')\n",
    "        # optimizer의 현재 learning rate를 가져옴. \n",
    "        lr = float(tf.keras.backend.get_value(self.model.optimizer.learning_rate))\n",
    "        # schedule 함수에 batch_step과 lr을 입력하여 step에 따른 lr 계산. \n",
    "        scheduled_lr = self.schedule(self.batch_step, lr)\n",
    "        # 계산된 scheduled_lr을 optimizer의 lr로 입력. \n",
    "        tf.keras.backend.set_value(self.model.optimizer.lr, scheduled_lr)\n",
    "        self.batch_step += 1\n",
    "        self.calc_lr = scheduled_lr\n",
    "        \n",
    "    def on_epoch_end(self, epoch, logs=None):\n",
    "        print('learning rate:', self.calc_lr)\n",
    "        \n",
    "    # cosine decay learning rate를 step 별로 계산. \n",
    "    def schedule(self, step, lr):\n",
    "        def decayed_learning_rate(step, lr):\n",
    "            step = min(step, self.decay_steps)\n",
    "            cosine_decay = 0.5 * (1 + np.cos(np.pi * step / self.decay_steps))\n",
    "            decayed = (1 - alpha) * cosine_decay + alpha\n",
    "            return lr * decayed\n",
    "        \n",
    "        return decayed_learning_rate(step, lr)\n",
    "        "
   ]
  },
  {
   "cell_type": "code",
   "execution_count": 21,
   "id": "7c5f3af9",
   "metadata": {
    "execution": {
     "iopub.execute_input": "2022-02-02T05:08:19.419097Z",
     "iopub.status.busy": "2022-02-02T05:08:19.418016Z",
     "iopub.status.idle": "2022-02-02T05:08:20.415330Z",
     "shell.execute_reply": "2022-02-02T05:08:20.415840Z"
    },
    "papermill": {
     "duration": 1.135876,
     "end_time": "2022-02-02T05:08:20.416045",
     "exception": false,
     "start_time": "2022-02-02T05:08:19.280169",
     "status": "completed"
    },
    "tags": []
   },
   "outputs": [
    {
     "name": "stdout",
     "output_type": "stream",
     "text": [
      "Epoch 1/30\n",
      "1/1 [==============================] - 0s 317ms/step - loss: 4485.6362\n",
      "learning rate: 0.009999999776482582\n",
      "Epoch 2/30\n",
      "1/1 [==============================] - 0s 5ms/step - loss: 3433.0161\n",
      "learning rate: 0.009997532578366386\n",
      "Epoch 3/30\n",
      "1/1 [==============================] - 0s 17ms/step - loss: 2588.6790\n",
      "learning rate: 0.009987668779447316\n",
      "Epoch 4/30\n",
      "1/1 [==============================] - 0s 11ms/step - loss: 1946.9242\n",
      "learning rate: 0.009965506251171758\n",
      "Epoch 5/30\n",
      "1/1 [==============================] - 0s 10ms/step - loss: 1468.0598\n",
      "learning rate: 0.009926215885098146\n",
      "Epoch 6/30\n",
      "1/1 [==============================] - 0s 10ms/step - loss: 1111.6956\n",
      "learning rate: 0.00986511165178973\n",
      "Epoch 7/30\n",
      "1/1 [==============================] - 0s 10ms/step - loss: 847.9206\n",
      "learning rate: 0.009777742546603758\n",
      "Epoch 8/30\n",
      "1/1 [==============================] - 0s 11ms/step - loss: 650.6002\n",
      "learning rate: 0.00966000258860012\n",
      "Epoch 9/30\n",
      "1/1 [==============================] - 0s 9ms/step - loss: 500.1330\n",
      "learning rate: 0.009508259400143007\n",
      "Epoch 10/30\n",
      "1/1 [==============================] - 0s 4ms/step - loss: 383.0751\n",
      "learning rate: 0.009319490622379422\n",
      "Epoch 11/30\n",
      "1/1 [==============================] - 0s 9ms/step - loss: 291.5114\n",
      "learning rate: 0.009091426581207967\n",
      "Epoch 12/30\n",
      "1/1 [==============================] - 0s 8ms/step - loss: 221.4004\n",
      "learning rate: 0.008822687543002871\n",
      "Epoch 13/30\n",
      "1/1 [==============================] - 0s 9ms/step - loss: 170.2673\n",
      "learning rate: 0.008512907827377238\n",
      "Epoch 14/30\n",
      "1/1 [==============================] - 0s 9ms/step - loss: 135.9577\n",
      "learning rate: 0.008162834022928805\n",
      "Epoch 15/30\n",
      "1/1 [==============================] - 0s 4ms/step - loss: 115.9278\n",
      "learning rate: 0.007774393276127479\n",
      "Epoch 16/30\n",
      "1/1 [==============================] - 0s 5ms/step - loss: 107.1418\n",
      "learning rate: 0.007350714012472202\n",
      "Epoch 17/30\n",
      "1/1 [==============================] - 0s 9ms/step - loss: 106.4034\n",
      "learning rate: 0.006896096839915553\n",
      "Epoch 18/30\n",
      "1/1 [==============================] - 0s 4ms/step - loss: 110.5701\n",
      "learning rate: 0.006415928520056952\n",
      "Epoch 19/30\n",
      "1/1 [==============================] - 0s 11ms/step - loss: 116.7970\n",
      "learning rate: 0.0059165382476093166\n",
      "Epoch 20/30\n",
      "1/1 [==============================] - 0s 5ms/step - loss: 122.8913\n",
      "learning rate: 0.005404995990233146\n",
      "Epoch 21/30\n",
      "1/1 [==============================] - 0s 5ms/step - loss: 127.5135\n",
      "learning rate: 0.004888865008276473\n",
      "Epoch 22/30\n",
      "1/1 [==============================] - 0s 6ms/step - loss: 130.1159\n",
      "learning rate: 0.004375913240345981\n",
      "Epoch 23/30\n",
      "1/1 [==============================] - 0s 19ms/step - loss: 130.7212\n",
      "learning rate: 0.003873806117577276\n",
      "Epoch 24/30\n",
      "1/1 [==============================] - 0s 17ms/step - loss: 129.6669\n",
      "learning rate: 0.0033897955683273736\n",
      "Epoch 25/30\n",
      "1/1 [==============================] - 0s 12ms/step - loss: 127.3987\n",
      "learning rate: 0.002930425074151089\n",
      "Epoch 26/30\n",
      "1/1 [==============================] - 0s 4ms/step - loss: 124.3486\n",
      "learning rate: 0.0025012742863684406\n",
      "Epoch 27/30\n",
      "1/1 [==============================] - 0s 3ms/step - loss: 120.8840\n",
      "learning rate: 0.002106757129467716\n",
      "Epoch 28/30\n",
      "1/1 [==============================] - 0s 3ms/step - loss: 117.2958\n",
      "learning rate: 0.0017499903137473615\n",
      "Epoch 29/30\n",
      "1/1 [==============================] - 0s 4ms/step - loss: 113.8017\n",
      "learning rate: 0.0014327380291621207\n",
      "Epoch 30/30\n",
      "1/1 [==============================] - 0s 5ms/step - loss: 110.5534\n",
      "learning rate: 0.0011554366405818113\n"
     ]
    }
   ],
   "source": [
    "model = tf.keras.models.Sequential([tf.keras.layers.Dense(10)])\n",
    "model.compile(tf.keras.optimizers.Adam(learning_rate=0.01), loss='mse')\n",
    "\n",
    "cosine_scheduler = CosineDecayCB(0.01, 100)\n",
    "#lr_scheduler = tf.keras.callbacks.LearningRateScheduler(scheduler)\n",
    "#lr_monitor = LearningRateMonitor()\n",
    "history = model.fit(np.arange(100).reshape(5, 20), np.zeros(5),\n",
    "                    epochs=30, callbacks=[cosine_scheduler], verbose=1)"
   ]
  },
  {
   "cell_type": "markdown",
   "id": "aea35eb2",
   "metadata": {
    "papermill": {
     "duration": 0.120394,
     "end_time": "2022-02-02T05:08:20.658797",
     "exception": false,
     "start_time": "2022-02-02T05:08:20.538403",
     "status": "completed"
    },
    "tags": []
   },
   "source": [
    "### Cosine Decay Restart 를 Callback으로 구현. \n",
    "* https://gist.github.com/jeremyjordan/5a222e04bb78c242f5763ad40626c452"
   ]
  },
  {
   "cell_type": "code",
   "execution_count": 22,
   "id": "97cc80cf",
   "metadata": {
    "execution": {
     "iopub.execute_input": "2022-02-02T05:08:20.911012Z",
     "iopub.status.busy": "2022-02-02T05:08:20.909946Z",
     "iopub.status.idle": "2022-02-02T05:08:20.912848Z",
     "shell.execute_reply": "2022-02-02T05:08:20.912317Z"
    },
    "papermill": {
     "duration": 0.131598,
     "end_time": "2022-02-02T05:08:20.912984",
     "exception": false,
     "start_time": "2022-02-02T05:08:20.781386",
     "status": "completed"
    },
    "tags": []
   },
   "outputs": [],
   "source": [
    "from tensorflow.keras import backend as K\n",
    "\n",
    "class LearningRateMonitor(Callback):\n",
    "    # start of training\n",
    "    def on_train_begin(self, logs={}):\n",
    "        self.lrates = list()\n",
    "\n",
    "    # end of each training epoch\n",
    "    def on_epoch_end(self, epoch, logs={}):\n",
    "        # get and store the learning rate\n",
    "        optimizer = self.model.optimizer\n",
    "        lrate = float(K.get_value(self.model.optimizer.lr))\n",
    "        print('learning rate:', lrate)\n",
    "        self.lrates.append(lrate)"
   ]
  },
  {
   "cell_type": "code",
   "execution_count": 23,
   "id": "4b2d9670",
   "metadata": {
    "execution": {
     "iopub.execute_input": "2022-02-02T05:08:21.169377Z",
     "iopub.status.busy": "2022-02-02T05:08:21.168648Z",
     "iopub.status.idle": "2022-02-02T05:08:21.178429Z",
     "shell.execute_reply": "2022-02-02T05:08:21.177769Z"
    },
    "papermill": {
     "duration": 0.143116,
     "end_time": "2022-02-02T05:08:21.178568",
     "exception": false,
     "start_time": "2022-02-02T05:08:21.035452",
     "status": "completed"
    },
    "tags": []
   },
   "outputs": [],
   "source": [
    "# https://gist.github.com/jeremyjordan/5a222e04bb78c242f5763ad40626c452\n",
    "\n",
    "from collections.abc import Iterable\n",
    "from tensorflow.keras.callbacks import *\n",
    "from tensorflow.keras import backend as K\n",
    "import tensorflow as tf\n",
    "from tensorflow.python.ops import math_ops\n",
    "from tensorflow.python.ops import control_flow_ops\n",
    "from tensorflow.python.framework import constant_op\n",
    "import math\n",
    "\n",
    "\n",
    "class CosineDecayRestarts(tf.keras.callbacks.Callback):\n",
    "    def __init__(self, initial_learning_rate, first_decay_steps, alpha=0.0, t_mul=2.0, m_mul=1.0):\n",
    "        super(CosineDecayRestarts, self).__init__()\n",
    "        self.initial_learning_rate = initial_learning_rate\n",
    "        self.first_decay_steps = first_decay_steps\n",
    "        self.alpha = alpha\n",
    "        self.t_mul = t_mul\n",
    "        self.m_mul = m_mul\n",
    "        self.batch_step = 0\n",
    "\n",
    "    def on_train_batch_begin(self, step, logs=None):\n",
    "        if not hasattr(self.model.optimizer, \"lr\"):\n",
    "            raise ValueError('Optimizer must have a \"lr\" attribute.')\n",
    "        # Get the current learning rate from model's optimizer.\n",
    "        lr = float(tf.keras.backend.get_value(self.model.optimizer.learning_rate))\n",
    "        # Call schedule function to get the scheduled learning rate.\n",
    "        scheduled_lr = self.schedule(self.batch_step, lr)\n",
    "        # Set the value back to the optimizer before this epoch starts\n",
    "        tf.keras.backend.set_value(self.model.optimizer.lr, scheduled_lr)\n",
    "        self.batch_step += 1\n",
    "\n",
    "    def schedule(self, step, lr):\n",
    "        def compute_step(completed_fraction, geometric=False):\n",
    "            \"\"\"Helper for `cond` operation.\"\"\"\n",
    "            if geometric:\n",
    "                i_restart = math_ops.floor(\n",
    "                  math_ops.log(1.0 - completed_fraction * (1.0 - self.t_mul)) /\n",
    "                  math_ops.log(self.t_mul))\n",
    "\n",
    "                sum_r = (1.0 - self.t_mul**i_restart) / (1.0 - self.t_mul)\n",
    "                completed_fraction = (completed_fraction - sum_r) / self.t_mul**i_restart\n",
    "\n",
    "            else:\n",
    "                i_restart = math_ops.floor(completed_fraction)\n",
    "                completed_fraction -= i_restart\n",
    "\n",
    "            return i_restart, completed_fraction\n",
    "\n",
    "        completed_fraction = step / self.first_decay_steps\n",
    "\n",
    "        i_restart, completed_fraction = control_flow_ops.cond(\n",
    "          math_ops.equal(self.t_mul, 1.0),\n",
    "          lambda: compute_step(completed_fraction, geometric=False),\n",
    "          lambda: compute_step(completed_fraction, geometric=True))\n",
    "\n",
    "        m_fac = self.m_mul**i_restart\n",
    "        cosine_decayed = 0.5 * m_fac * (1.0 + math_ops.cos(\n",
    "          constant_op.constant(math.pi) * completed_fraction))\n",
    "        decayed = (1 - self.alpha) * cosine_decayed + self.alpha\n",
    "\n",
    "        return math_ops.multiply(self.initial_learning_rate, decayed)"
   ]
  },
  {
   "cell_type": "code",
   "execution_count": 24,
   "id": "6e71278f",
   "metadata": {
    "execution": {
     "iopub.execute_input": "2022-02-02T05:08:21.430576Z",
     "iopub.status.busy": "2022-02-02T05:08:21.429791Z",
     "iopub.status.idle": "2022-02-02T05:08:21.903089Z",
     "shell.execute_reply": "2022-02-02T05:08:21.902473Z"
    },
    "papermill": {
     "duration": 0.603561,
     "end_time": "2022-02-02T05:08:21.903267",
     "exception": false,
     "start_time": "2022-02-02T05:08:21.299706",
     "status": "completed"
    },
    "tags": []
   },
   "outputs": [
    {
     "name": "stdout",
     "output_type": "stream",
     "text": [
      "Epoch 1/15\n",
      "1/1 [==============================] - 0s 297ms/step - loss: 3395.3613\n",
      "learning rate: 0.009999999776482582\n",
      "Epoch 2/15\n",
      "1/1 [==============================] - 0s 5ms/step - loss: 2423.2512\n",
      "learning rate: 0.009997531771659851\n",
      "Epoch 3/15\n",
      "1/1 [==============================] - 0s 4ms/step - loss: 1690.2025\n",
      "learning rate: 0.009990133345127106\n",
      "Epoch 4/15\n",
      "1/1 [==============================] - 0s 4ms/step - loss: 1125.4722\n",
      "learning rate: 0.009977809153497219\n",
      "Epoch 5/15\n",
      "1/1 [==============================] - 0s 5ms/step - loss: 707.5327\n",
      "learning rate: 0.009960574097931385\n",
      "Epoch 6/15\n",
      "1/1 [==============================] - 0s 5ms/step - loss: 425.7243\n",
      "learning rate: 0.009938441216945648\n",
      "Epoch 7/15\n",
      "1/1 [==============================] - 0s 5ms/step - loss: 258.4889\n",
      "learning rate: 0.009911435656249523\n",
      "Epoch 8/15\n",
      "1/1 [==============================] - 0s 4ms/step - loss: 175.0369\n",
      "learning rate: 0.0098795834928751\n",
      "Epoch 9/15\n",
      "1/1 [==============================] - 0s 5ms/step - loss: 145.6084\n",
      "learning rate: 0.009842915460467339\n",
      "Epoch 10/15\n",
      "1/1 [==============================] - 0s 5ms/step - loss: 149.1916\n",
      "learning rate: 0.009801467880606651\n",
      "Epoch 11/15\n",
      "1/1 [==============================] - 0s 4ms/step - loss: 172.1654\n",
      "learning rate: 0.00975528173148632\n",
      "Epoch 12/15\n",
      "1/1 [==============================] - 0s 4ms/step - loss: 203.5831\n",
      "learning rate: 0.009704403579235077\n",
      "Epoch 13/15\n",
      "1/1 [==============================] - 0s 4ms/step - loss: 234.0638\n",
      "learning rate: 0.0096488818526268\n",
      "Epoch 14/15\n",
      "1/1 [==============================] - 0s 4ms/step - loss: 256.7197\n",
      "learning rate: 0.009588773362338543\n",
      "Epoch 15/15\n",
      "1/1 [==============================] - 0s 4ms/step - loss: 267.9520\n",
      "learning rate: 0.009524134919047356\n"
     ]
    }
   ],
   "source": [
    "model = tf.keras.models.Sequential([tf.keras.layers.Dense(10)])\n",
    "model.compile(tf.keras.optimizers.Adam(learning_rate=0.01), loss='mse')\n",
    "\n",
    "cosine_scheduler = CosineDecayRestarts(0.01, 100)\n",
    "lr_monitor = LearningRateMonitor()\n",
    "history = model.fit(np.arange(100).reshape(5, 20), np.zeros(5),\n",
    "                    epochs=15, callbacks=[cosine_scheduler, lr_monitor], verbose=1)"
   ]
  },
  {
   "cell_type": "code",
   "execution_count": null,
   "id": "bb8e4cfb",
   "metadata": {
    "papermill": {
     "duration": 0.161068,
     "end_time": "2022-02-02T05:08:22.200802",
     "exception": false,
     "start_time": "2022-02-02T05:08:22.039734",
     "status": "completed"
    },
    "tags": []
   },
   "outputs": [],
   "source": []
  }
 ],
 "metadata": {
  "kernelspec": {
   "display_name": "Python 3",
   "language": "python",
   "name": "python3"
  },
  "language_info": {
   "codemirror_mode": {
    "name": "ipython",
    "version": 3
   },
   "file_extension": ".py",
   "mimetype": "text/x-python",
   "name": "python",
   "nbconvert_exporter": "python",
   "pygments_lexer": "ipython3",
   "version": "3.7.12"
  },
  "papermill": {
   "default_parameters": {},
   "duration": 30.689793,
   "end_time": "2022-02-02T05:08:25.519506",
   "environment_variables": {},
   "exception": null,
   "input_path": "__notebook__.ipynb",
   "output_path": "__notebook__.ipynb",
   "parameters": {},
   "start_time": "2022-02-02T05:07:54.829713",
   "version": "2.3.3"
  }
 },
 "nbformat": 4,
 "nbformat_minor": 5
}
